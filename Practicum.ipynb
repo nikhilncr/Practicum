{
 "cells": [
  {
   "cell_type": "code",
   "execution_count": 46,
   "metadata": {},
   "outputs": [],
   "source": [
    "import numpy as np \n",
    "import pandas as pd\n",
    "\n",
    "\n",
    "import subprocess\n",
    "from subprocess import check_output\n",
    "import gc"
   ]
  },
  {
   "cell_type": "code",
   "execution_count": 3,
   "metadata": {},
   "outputs": [],
   "source": [
    "files=check_output([\"ls\", \"../pdata\"]).decode(\"utf8\")"
   ]
  },
  {
   "cell_type": "code",
   "execution_count": 4,
   "metadata": {},
   "outputs": [
    {
     "data": {
      "text/plain": [
       "'holidays_events.csv\\nitems.csv\\noil.csv\\nstores.csv\\ntrain.csv\\ntransactions.csv\\n'"
      ]
     },
     "execution_count": 4,
     "metadata": {},
     "output_type": "execute_result"
    }
   ],
   "source": [
    "files"
   ]
  },
  {
   "cell_type": "markdown",
   "metadata": {},
   "source": [
    "#### Let's check the number of rows in each file"
   ]
  },
  {
   "cell_type": "code",
   "execution_count": 5,
   "metadata": {},
   "outputs": [
    {
     "name": "stdout",
     "output_type": "stream",
     "text": [
      "The file : holidays_events.csv has : b'351' rows\n",
      "The file : items.csv has : b'4101' rows\n",
      "The file : oil.csv has : b'1219' rows\n",
      "The file : stores.csv has : b'55' rows\n",
      "The file : train.csv has : b'125497041' rows\n",
      "The file : transactions.csv has : b'83489' rows\n"
     ]
    }
   ],
   "source": [
    "for file in files.split('\\n'):\n",
    "    if(file!=''):\n",
    "        path = '../pdata/'+file\n",
    "        popen = subprocess.Popen(['wc', '-l', path], stdout=subprocess.PIPE,stderr=subprocess.PIPE)\n",
    "        result,error= popen.communicate()\n",
    "        print(\"The file :\",file,\"has :\",result.strip().split()[0],\"rows\")"
   ]
  },
  {
   "cell_type": "markdown",
   "metadata": {},
   "source": [
    "### Memory optimization\n",
    "##### Since train.csv has 125 mil records, it is best to consider performing some data engineering before starting any analysis."
   ]
  },
  {
   "cell_type": "markdown",
   "metadata": {},
   "source": [
    "Following are the steps that have been used to reduce memory consumption\n",
    "\n",
    "\n",
    "- Check the range of values present for the variables\n",
    "- The link https://docs.scipy.org/doc/numpy-1.13.0/user/basics.types.html is referred to find the suitable data type for the values\n",
    "- Change datatype accordingly\n",
    "- Split date column into three columns (Day, Month, Year)\n",
    "    - Reasons to do this\n",
    "        - Any pandas libriary api's involving operations on column of type datetime is not vectorized. Hence, any such operations take more time.\n",
    "        - And, Splitting it into three columns will provide better memory utilization.\n",
    "        \n",
    "- Impute the on promotion column\n",
    "- join all the resulting columns"
   ]
  },
  {
   "cell_type": "code",
   "execution_count": 3,
   "metadata": {},
   "outputs": [
    {
     "data": {
      "text/plain": [
       "0"
      ]
     },
     "execution_count": 3,
     "metadata": {},
     "output_type": "execute_result"
    }
   ],
   "source": [
    "gc.collect()"
   ]
  },
  {
   "cell_type": "code",
   "execution_count": 2,
   "metadata": {},
   "outputs": [
    {
     "name": "stderr",
     "output_type": "stream",
     "text": [
      "/Users/nikhilcr/Anaconda/anaconda3/lib/python3.6/site-packages/IPython/core/interactiveshell.py:2698: DtypeWarning: Columns (5) have mixed types. Specify dtype option on import or set low_memory=False.\n",
      "  interactivity=interactivity, compiler=compiler, result=result)\n"
     ]
    },
    {
     "name": "stdout",
     "output_type": "stream",
     "text": [
      "The import with default options took 148.17780113220215 seconds\n",
      "The memory consumed by the loaded data is 5.610154941678047 gigabytes\n"
     ]
    }
   ],
   "source": [
    "import time\n",
    "start=time.time()\n",
    "\n",
    "df = pd.read_csv(\"../pdata/train.csv\")\n",
    "\n",
    "end = time.time()\n",
    "\n",
    "print('The import with default options took {} seconds'.format(end-start))\n",
    "print('The memory consumed by the loaded data is {} gigabytes'.format(df.memory_usage(index=True).sum() / 1024**3))"
   ]
  },
  {
   "cell_type": "code",
   "execution_count": 111,
   "metadata": {},
   "outputs": [
    {
     "name": "stdout",
     "output_type": "stream",
     "text": [
      "<class 'pandas.core.frame.DataFrame'>\n",
      "RangeIndex: 125497040 entries, 0 to 125497039\n",
      "Data columns (total 6 columns):\n",
      "id             int64\n",
      "date           object\n",
      "store_nbr      int64\n",
      "item_nbr       int64\n",
      "unit_sales     float64\n",
      "onpromotion    object\n",
      "dtypes: float64(1), int64(3), object(2)\n",
      "memory usage: 5.6+ GB\n"
     ]
    }
   ],
   "source": [
    "df.info()"
   ]
  },
  {
   "cell_type": "code",
   "execution_count": 71,
   "metadata": {},
   "outputs": [
    {
     "name": "stdout",
     "output_type": "stream",
     "text": [
      "The memory used by numerical columns with pandas default data type presets \n",
      "\n",
      "Column \"id\" is imported as int64 and uses 957.47 MB\n",
      "Column \"store_nbr\" is imported as int64 and uses 957.47 MB\n",
      "Column \"item_nbr\" is imported as int64 and uses 957.47 MB\n",
      "Column \"unit_sales\" is imported as float64 and uses 957.47 MB\n",
      "\n",
      "The total memory consumed by the numerical columns is 3.74 GB\n"
     ]
    }
   ],
   "source": [
    "print(\"The memory used by numerical columns with pandas default data type presets \\n\")\n",
    "total_mem = 0\n",
    "for col in df.columns:\n",
    "    if df[col].dtype.name != 'object':\n",
    "        col_mem = df[col].memory_usage()/1024**2\n",
    "        total_mem += col_mem\n",
    "        \n",
    "        print('Column \"{}\" is imported as {} and uses {:03.2f} MB'\n",
    "              .format(col,df[col].dtype.name,col_mem))\n",
    "\n",
    "print('\\nThe total memory consumed by the numerical columns is {:03.2f} GB'.format(total_mem/1024))"
   ]
  },
  {
   "cell_type": "code",
   "execution_count": 3,
   "metadata": {},
   "outputs": [
    {
     "name": "stdout",
     "output_type": "stream",
     "text": [
      "The memory used by object columns with pandas default data type presets \n",
      "\n",
      "Column \"date\" is imported as object and uses 957.47 MB\n",
      "Column \"onpromotion\" is imported as object and uses 957.47 MB\n",
      "\n",
      "The total memory consumed by the object columns is 1.87 GB\n"
     ]
    }
   ],
   "source": [
    "print(\"The memory used by object columns with pandas default data type presets \\n\")\n",
    "total_mem_obj = 0\n",
    "for col in df.columns:\n",
    "    if df[col].dtype.name == 'object':\n",
    "        col_mem = df[col].memory_usage()/1024**2\n",
    "        total_mem_obj += col_mem\n",
    "        \n",
    "        print('Column \"{}\" is imported as {} and uses {:03.2f} MB'\n",
    "              .format(col,df[col].dtype.name,col_mem))\n",
    "\n",
    "print('\\nThe total memory consumed by the object columns is {:03.2f} GB'.format(total_mem_obj/1024))"
   ]
  },
  {
   "cell_type": "code",
   "execution_count": 118,
   "metadata": {},
   "outputs": [
    {
     "name": "stdout",
     "output_type": "stream",
     "text": [
      "The memory used by object columns with pandas default data type presets \n",
      "\n",
      "Column \"id\" is imported as int64 and uses 957.47 MB\n",
      "Column \"date\" is imported as datetime64[ns] and uses 957.47 MB\n",
      "Column \"store_nbr\" is imported as int64 and uses 957.47 MB\n",
      "Column \"item_nbr\" is imported as int64 and uses 957.47 MB\n",
      "Column \"unit_sales\" is imported as float64 and uses 957.47 MB\n",
      "\n",
      "The total memory consumed by the object columns is 4.68 GB\n"
     ]
    }
   ],
   "source": [
    "print(\"The memory used by object columns with pandas default data type presets \\n\")\n",
    "total_mem_obj = 0\n",
    "for col in df.columns:\n",
    "    if df[col].dtype.name != 'object':\n",
    "        col_mem = df[col].memory_usage()/1024**2\n",
    "        total_mem_obj += col_mem\n",
    "        \n",
    "        print('Column \"{}\" is imported as {} and uses {:03.2f} MB'\n",
    "              .format(col,df[col].dtype.name,col_mem))\n",
    "\n",
    "print('\\nThe total memory consumed by the object columns is {:03.2f} GB'.format(total_mem_obj/1024))"
   ]
  },
  {
   "cell_type": "code",
   "execution_count": 7,
   "metadata": {},
   "outputs": [
    {
     "data": {
      "text/html": [
       "<div>\n",
       "<style>\n",
       "    .dataframe thead tr:only-child th {\n",
       "        text-align: right;\n",
       "    }\n",
       "\n",
       "    .dataframe thead th {\n",
       "        text-align: left;\n",
       "    }\n",
       "\n",
       "    .dataframe tbody tr th {\n",
       "        vertical-align: top;\n",
       "    }\n",
       "</style>\n",
       "<table border=\"1\" class=\"dataframe\">\n",
       "  <thead>\n",
       "    <tr style=\"text-align: right;\">\n",
       "      <th></th>\n",
       "      <th>id</th>\n",
       "      <th>date</th>\n",
       "      <th>store_nbr</th>\n",
       "      <th>item_nbr</th>\n",
       "      <th>unit_sales</th>\n",
       "      <th>onpromotion</th>\n",
       "    </tr>\n",
       "  </thead>\n",
       "  <tbody>\n",
       "    <tr>\n",
       "      <th>0</th>\n",
       "      <td>0</td>\n",
       "      <td>2013-01-01</td>\n",
       "      <td>25</td>\n",
       "      <td>103665</td>\n",
       "      <td>7.0</td>\n",
       "      <td>NaN</td>\n",
       "    </tr>\n",
       "    <tr>\n",
       "      <th>1</th>\n",
       "      <td>1</td>\n",
       "      <td>2013-01-01</td>\n",
       "      <td>25</td>\n",
       "      <td>105574</td>\n",
       "      <td>1.0</td>\n",
       "      <td>NaN</td>\n",
       "    </tr>\n",
       "    <tr>\n",
       "      <th>2</th>\n",
       "      <td>2</td>\n",
       "      <td>2013-01-01</td>\n",
       "      <td>25</td>\n",
       "      <td>105575</td>\n",
       "      <td>2.0</td>\n",
       "      <td>NaN</td>\n",
       "    </tr>\n",
       "    <tr>\n",
       "      <th>3</th>\n",
       "      <td>3</td>\n",
       "      <td>2013-01-01</td>\n",
       "      <td>25</td>\n",
       "      <td>108079</td>\n",
       "      <td>1.0</td>\n",
       "      <td>NaN</td>\n",
       "    </tr>\n",
       "    <tr>\n",
       "      <th>4</th>\n",
       "      <td>4</td>\n",
       "      <td>2013-01-01</td>\n",
       "      <td>25</td>\n",
       "      <td>108701</td>\n",
       "      <td>1.0</td>\n",
       "      <td>NaN</td>\n",
       "    </tr>\n",
       "  </tbody>\n",
       "</table>\n",
       "</div>"
      ],
      "text/plain": [
       "   id        date  store_nbr  item_nbr  unit_sales onpromotion\n",
       "0   0  2013-01-01         25    103665         7.0         NaN\n",
       "1   1  2013-01-01         25    105574         1.0         NaN\n",
       "2   2  2013-01-01         25    105575         2.0         NaN\n",
       "3   3  2013-01-01         25    108079         1.0         NaN\n",
       "4   4  2013-01-01         25    108701         1.0         NaN"
      ]
     },
     "execution_count": 7,
     "metadata": {},
     "output_type": "execute_result"
    }
   ],
   "source": [
    "df.head()"
   ]
  },
  {
   "cell_type": "code",
   "execution_count": 18,
   "metadata": {},
   "outputs": [
    {
     "data": {
      "text/html": [
       "<div>\n",
       "<style>\n",
       "    .dataframe thead tr:only-child th {\n",
       "        text-align: right;\n",
       "    }\n",
       "\n",
       "    .dataframe thead th {\n",
       "        text-align: left;\n",
       "    }\n",
       "\n",
       "    .dataframe tbody tr th {\n",
       "        vertical-align: top;\n",
       "    }\n",
       "</style>\n",
       "<table border=\"1\" class=\"dataframe\">\n",
       "  <thead>\n",
       "    <tr style=\"text-align: right;\">\n",
       "      <th></th>\n",
       "      <th>id</th>\n",
       "      <th>store_nbr</th>\n",
       "      <th>item_nbr</th>\n",
       "      <th>unit_sales</th>\n",
       "    </tr>\n",
       "  </thead>\n",
       "  <tbody>\n",
       "    <tr>\n",
       "      <th>count</th>\n",
       "      <td>1.254970e+08</td>\n",
       "      <td>1.254970e+08</td>\n",
       "      <td>1.254970e+08</td>\n",
       "      <td>1.254970e+08</td>\n",
       "    </tr>\n",
       "    <tr>\n",
       "      <th>mean</th>\n",
       "      <td>6.274852e+07</td>\n",
       "      <td>2.746458e+01</td>\n",
       "      <td>9.727692e+05</td>\n",
       "      <td>8.554865e+00</td>\n",
       "    </tr>\n",
       "    <tr>\n",
       "      <th>std</th>\n",
       "      <td>3.622788e+07</td>\n",
       "      <td>1.633051e+01</td>\n",
       "      <td>5.205336e+05</td>\n",
       "      <td>2.360515e+01</td>\n",
       "    </tr>\n",
       "    <tr>\n",
       "      <th>min</th>\n",
       "      <td>0.000000e+00</td>\n",
       "      <td>1.000000e+00</td>\n",
       "      <td>9.699500e+04</td>\n",
       "      <td>-1.537200e+04</td>\n",
       "    </tr>\n",
       "    <tr>\n",
       "      <th>25%</th>\n",
       "      <td>3.137426e+07</td>\n",
       "      <td>1.200000e+01</td>\n",
       "      <td>5.223830e+05</td>\n",
       "      <td>2.000000e+00</td>\n",
       "    </tr>\n",
       "    <tr>\n",
       "      <th>50%</th>\n",
       "      <td>6.274852e+07</td>\n",
       "      <td>2.800000e+01</td>\n",
       "      <td>9.595000e+05</td>\n",
       "      <td>4.000000e+00</td>\n",
       "    </tr>\n",
       "    <tr>\n",
       "      <th>75%</th>\n",
       "      <td>9.412278e+07</td>\n",
       "      <td>4.300000e+01</td>\n",
       "      <td>1.354380e+06</td>\n",
       "      <td>9.000000e+00</td>\n",
       "    </tr>\n",
       "    <tr>\n",
       "      <th>max</th>\n",
       "      <td>1.254970e+08</td>\n",
       "      <td>5.400000e+01</td>\n",
       "      <td>2.127114e+06</td>\n",
       "      <td>8.944000e+04</td>\n",
       "    </tr>\n",
       "  </tbody>\n",
       "</table>\n",
       "</div>"
      ],
      "text/plain": [
       "                 id     store_nbr      item_nbr    unit_sales\n",
       "count  1.254970e+08  1.254970e+08  1.254970e+08  1.254970e+08\n",
       "mean   6.274852e+07  2.746458e+01  9.727692e+05  8.554865e+00\n",
       "std    3.622788e+07  1.633051e+01  5.205336e+05  2.360515e+01\n",
       "min    0.000000e+00  1.000000e+00  9.699500e+04 -1.537200e+04\n",
       "25%    3.137426e+07  1.200000e+01  5.223830e+05  2.000000e+00\n",
       "50%    6.274852e+07  2.800000e+01  9.595000e+05  4.000000e+00\n",
       "75%    9.412278e+07  4.300000e+01  1.354380e+06  9.000000e+00\n",
       "max    1.254970e+08  5.400000e+01  2.127114e+06  8.944000e+04"
      ]
     },
     "execution_count": 18,
     "metadata": {},
     "output_type": "execute_result"
    }
   ],
   "source": [
    "df.describe()"
   ]
  },
  {
   "cell_type": "code",
   "execution_count": 29,
   "metadata": {},
   "outputs": [],
   "source": [
    "# delete the 5.6+ GB dataframe and garbage collect the stale objects\n",
    "#del(df)\n",
    "gc.collect()\n",
    "\n",
    "# dtype dictionary that can be used for loading based on data above\n",
    "dtype_dict={\"id\":np.uint32,\n",
    "            \"store_nbr\":np.uint8,\n",
    "            \"item_nbr\":np.uint32,\n",
    "            \"unit_sales\":np.float32\n",
    "           }\n",
    "\n",
    "df1 = pd.read_csv(\"../pdata/train.csv\",dtype=dtype_dict,usecols=[0,2,3,4])\n"
   ]
  },
  {
   "cell_type": "code",
   "execution_count": 77,
   "metadata": {},
   "outputs": [
    {
     "name": "stdout",
     "output_type": "stream",
     "text": [
      "The memory used by numerical columns with pandas after optimization \n",
      "\n",
      "Column \"id\" is imported as int64 and uses 478.73 MB\n",
      "Column \"store_nbr\" is imported as int64 and uses 119.68 MB\n",
      "Column \"item_nbr\" is imported as int64 and uses 478.73 MB\n",
      "Column \"unit_sales\" is imported as float64 and uses 478.73 MB\n",
      "\n",
      "The total memory consumed by the numerical columns after optimization is 1.52 GB\n"
     ]
    }
   ],
   "source": [
    "print(\"The memory used by numerical columns with pandas after optimization \\n\")\n",
    "total_mem_post = 0\n",
    "for col in df1.columns:\n",
    "    col_mem = df1[col].memory_usage()/1024**2\n",
    "    total_mem_post += col_mem\n",
    "    print('Column \"{}\" is imported as {} and uses {:03.2f} MB'\n",
    "              .format(col,df[col].dtype.name,col_mem))\n",
    "print('\\nThe total memory consumed by the numerical columns after optimization is {:03.2f} GB'\n",
    "      .format(total_mem_post/1024))"
   ]
  },
  {
   "cell_type": "code",
   "execution_count": 108,
   "metadata": {},
   "outputs": [
    {
     "name": "stdout",
     "output_type": "stream",
     "text": [
      "Improvement after optimization\n",
      "- - - - - - - - - - - - - - - - - - - - - - - - - - - - - - - - - \n",
      "Column \"id\" has seen 50.00 % improvement after optimization\n",
      "Column \"store_nbr\" has seen 87.50 % improvement after optimization\n",
      "Column \"item_nbr\" has seen 50.00 % improvement after optimization\n",
      "Column \"unit_sales\" has seen 50.00 % improvement after optimization\n",
      "- - - - - - - - - - - - - - - - - - - - - - - - - - - - - - - - - \n",
      "Total memory saved is 2.22 GB \n",
      "Total Improvement is 59.37 %\n"
     ]
    }
   ],
   "source": [
    "print('Improvement after optimization\\n- - - - - - - - - - - - - - - - - - - - - - - - - - - - - - - - - ')\n",
    "for col in df1.columns:\n",
    "    imp = (df[col].memory_usage() - df1[col].memory_usage()) / df[col].memory_usage()\n",
    "    imp = imp * 100\n",
    "    print('Column \"{}\" has seen {:03.2f} % improvement after optimization'\n",
    "              .format(col,imp))\n",
    "\n",
    "print('- - - - - - - - - - - - - - - - - - - - - - - - - - - - - - - - - \\\n",
    "\\nTotal memory saved is {:03.2f} GB \\nTotal Improvement is {:03.2f} %'\n",
    "      .format((total_mem-total_mem_post)/1024,(total_mem-total_mem_post)*100/total_mem))"
   ]
  },
  {
   "cell_type": "code",
   "execution_count": 109,
   "metadata": {},
   "outputs": [
    {
     "data": {
      "text/plain": [
       "859"
      ]
     },
     "execution_count": 109,
     "metadata": {},
     "output_type": "execute_result"
    }
   ],
   "source": [
    "gc.collect()"
   ]
  },
  {
   "cell_type": "code",
   "execution_count": 110,
   "metadata": {},
   "outputs": [
    {
     "data": {
      "text/html": [
       "<div>\n",
       "<style>\n",
       "    .dataframe thead tr:only-child th {\n",
       "        text-align: right;\n",
       "    }\n",
       "\n",
       "    .dataframe thead th {\n",
       "        text-align: left;\n",
       "    }\n",
       "\n",
       "    .dataframe tbody tr th {\n",
       "        vertical-align: top;\n",
       "    }\n",
       "</style>\n",
       "<table border=\"1\" class=\"dataframe\">\n",
       "  <thead>\n",
       "    <tr style=\"text-align: right;\">\n",
       "      <th></th>\n",
       "      <th>date</th>\n",
       "      <th>onpromotion</th>\n",
       "    </tr>\n",
       "  </thead>\n",
       "  <tbody>\n",
       "    <tr>\n",
       "      <th>count</th>\n",
       "      <td>125497040</td>\n",
       "      <td>103839389</td>\n",
       "    </tr>\n",
       "    <tr>\n",
       "      <th>unique</th>\n",
       "      <td>1684</td>\n",
       "      <td>2</td>\n",
       "    </tr>\n",
       "    <tr>\n",
       "      <th>top</th>\n",
       "      <td>2017-07-01</td>\n",
       "      <td>False</td>\n",
       "    </tr>\n",
       "    <tr>\n",
       "      <th>freq</th>\n",
       "      <td>118194</td>\n",
       "      <td>96028767</td>\n",
       "    </tr>\n",
       "  </tbody>\n",
       "</table>\n",
       "</div>"
      ],
      "text/plain": [
       "              date onpromotion\n",
       "count    125497040   103839389\n",
       "unique        1684           2\n",
       "top     2017-07-01       False\n",
       "freq        118194    96028767"
      ]
     },
     "execution_count": 110,
     "metadata": {},
     "output_type": "execute_result"
    }
   ],
   "source": [
    "df_obj = df.select_dtypes(include=['object']).copy()\n",
    "df_obj.describe()"
   ]
  },
  {
   "cell_type": "code",
   "execution_count": 4,
   "metadata": {},
   "outputs": [
    {
     "name": "stderr",
     "output_type": "stream",
     "text": [
      "/Users/nikhilcr/Anaconda/anaconda3/lib/python3.6/site-packages/IPython/core/interactiveshell.py:2698: DtypeWarning: Columns (5) have mixed types. Specify dtype option on import or set low_memory=False.\n",
      "  interactivity=interactivity, compiler=compiler, result=result)\n"
     ]
    }
   ],
   "source": [
    "df2 = pd.read_csv(\"../pdata/train.csv\",usecols=[1,5],parse_dates=[0])\n",
    "\n",
    "# Processing Date Column\n",
    "df2['Year'] = pd.DatetimeIndex(df2['date']).year\n",
    "df2['Month'] = pd.DatetimeIndex(df2['date']).month\n",
    "df2['Day'] =pd.DatetimeIndex(df2['date']).day\n",
    "\n",
    "# Let's get rid of date column since we have different columns for Day, Month and Year\n",
    "del(df2['date'])\n",
    "\n",
    "#data types of each of the sub columns of date\n",
    "df2['Day']=df2['Day'].astype(np.uint8)\n",
    "df2['Month']=df2['Month'].astype(np.uint8)\n",
    "df2['Year']=df2['Year'].astype(np.uint16)\n",
    "\n",
    "\n",
    "#fill missing values of on promotion by -1\n",
    "df2[\"onpromotion\"].fillna(-1, inplace=True)\n",
    "df2[\"onpromotion\"]=df2[\"onpromotion\"].astype(np.int8)"
   ]
  },
  {
   "cell_type": "code",
   "execution_count": 12,
   "metadata": {},
   "outputs": [
    {
     "data": {
      "text/plain": [
       "array([-1,  0,  1])"
      ]
     },
     "execution_count": 12,
     "metadata": {},
     "output_type": "execute_result"
    }
   ],
   "source": [
    "df2['onpromotion'].unique()"
   ]
  },
  {
   "cell_type": "code",
   "execution_count": 13,
   "metadata": {},
   "outputs": [
    {
     "data": {
      "text/plain": [
       "Index(['id', 'date', 'store_nbr', 'item_nbr', 'unit_sales', 'onpromotion'], dtype='object')"
      ]
     },
     "execution_count": 13,
     "metadata": {},
     "output_type": "execute_result"
    }
   ],
   "source": [
    "df.columns"
   ]
  },
  {
   "cell_type": "code",
   "execution_count": 27,
   "metadata": {},
   "outputs": [
    {
     "name": "stdout",
     "output_type": "stream",
     "text": [
      "Total memory consumed by date and onpromotion columns before optimization : 1.87 GB\n",
      "Total memory consumed by date and onpromotion columns after optimization : 0.58 GB\n",
      "Memory utilization in percentage : 68.75 %\n"
     ]
    }
   ],
   "source": [
    "total_mem_before_optimization = 0\n",
    "total_mem_after_optimization = 0\n",
    "for col in df.columns:\n",
    "    if(df[col].dtype.name == 'object'):\n",
    "        total_mem_before_optimization += df[col].memory_usage()/1024**3\n",
    "        \n",
    "for col in df2.columns:\n",
    "    total_mem_after_optimization+=df2[col].memory_usage() / 1024**3\n",
    "\n",
    "print('Total memory consumed by date and onpromotion columns before optimization : {:03.2f} GB'\n",
    "      .format(total_mem_before_optimization))\n",
    "print('Total memory consumed by date and onpromotion columns after optimization : {:03.2f} GB'\n",
    "      .format(total_mem_after_optimization))\n",
    "\n",
    "print('Memory utilization in percentage : {:03.2f} %'\n",
    "      .format((total_mem_before_optimization-total_mem_after_optimization)*100/total_mem_before_optimization))"
   ]
  },
  {
   "cell_type": "code",
   "execution_count": 30,
   "metadata": {},
   "outputs": [
    {
     "name": "stdout",
     "output_type": "stream",
     "text": [
      "<class 'pandas.core.frame.DataFrame'>\n",
      "RangeIndex: 125497040 entries, 0 to 125497039\n",
      "Data columns (total 7 columns):\n",
      "store_nbr      uint8\n",
      "item_nbr       uint32\n",
      "unit_sales     float32\n",
      "onpromotion    int8\n",
      "Year           uint16\n",
      "Month          uint8\n",
      "Day            uint8\n",
      "dtypes: float32(1), int8(1), uint16(1), uint32(1), uint8(3)\n",
      "memory usage: 1.6 GB\n"
     ]
    }
   ],
   "source": [
    "# joining part one and two\n",
    "df = pd.concat([df1.reset_index(drop=True), df2], axis=1)\n",
    "\n",
    "#drop temp data frames\n",
    "del(df1)\n",
    "del(df2)\n",
    "\n",
    "#Id is just an indicator column, hence not required for our analysis and a not required information\n",
    "id=df['id']\n",
    "del(df['id'])\n",
    "\n",
    "df.info()"
   ]
  },
  {
   "cell_type": "code",
   "execution_count": 45,
   "metadata": {},
   "outputs": [
    {
     "name": "stdout",
     "output_type": "stream",
     "text": [
      "Memory used by data frame before processing was about 5.6 GB\n",
      "New data frame uses only 1.64 GB\n",
      "Approximate Memory saved is 3.96  GB\n",
      "Memory Utilization is 70.78 %\n"
     ]
    }
   ],
   "source": [
    "#memory used of Dataframe-df after processng\n",
    "post_process_size =df.memory_usage().sum() / 1024**3\n",
    "\n",
    "print(\"Memory used by data frame before processing was about 5.6 GB\")\n",
    "print(\"New data frame uses only {:3.2f} GB\".format(post_process_size))\n",
    "print(\"Approximate Memory saved is {:3.2f}\".format(5.6-post_process_size),\" GB\")\n",
    "print(\"Memory Utilization is {:3.2f} %\".format((5.6-post_process_size)*100/5.6))"
   ]
  },
  {
   "cell_type": "code",
   "execution_count": null,
   "metadata": {},
   "outputs": [],
   "source": []
  }
 ],
 "metadata": {
  "kernelspec": {
   "display_name": "Python [conda env:anaconda3]",
   "language": "python",
   "name": "conda-env-anaconda3-py"
  },
  "language_info": {
   "codemirror_mode": {
    "name": "ipython",
    "version": 3
   },
   "file_extension": ".py",
   "mimetype": "text/x-python",
   "name": "python",
   "nbconvert_exporter": "python",
   "pygments_lexer": "ipython3",
   "version": "3.6.3"
  }
 },
 "nbformat": 4,
 "nbformat_minor": 2
}
